{
 "cells": [
  {
   "cell_type": "code",
   "execution_count": 1,
   "metadata": {},
   "outputs": [],
   "source": [
    "import matplotlib.pyplot as plt\n",
    "import numpy as np\n",
    "import pandas as pd"
   ]
  },
  {
   "cell_type": "code",
   "execution_count": 48,
   "metadata": {},
   "outputs": [],
   "source": [
    "v_sample=62.5e6/10\n",
    "del_t=1/(v_sample)"
   ]
  },
  {
   "cell_type": "code",
   "execution_count": 3,
   "metadata": {},
   "outputs": [],
   "source": [
    "plt.rcParams['mathtext.fontset'],plt.rcParams['font.family'] = 'stix', 'STIXGeneral'\n",
    "plt.rcParams.update({'font.size': 16})"
   ]
  },
  {
   "cell_type": "code",
   "execution_count": 4,
   "metadata": {},
   "outputs": [
    {
     "data": {
      "text/plain": [
       "0        0.000000e+00\n",
       "1        1.600000e-07\n",
       "2        3.200000e-07\n",
       "3        4.800000e-07\n",
       "4        6.400000e-07\n",
       "             ...     \n",
       "15995    2.559200e-03\n",
       "15996    2.559360e-03\n",
       "15997    2.559520e-03\n",
       "15998    2.559680e-03\n",
       "15999    2.559840e-03\n",
       "Name: Unnamed: 0, Length: 16000, dtype: float64"
      ]
     },
     "execution_count": 4,
     "metadata": {},
     "output_type": "execute_result"
    }
   ],
   "source": [
    "data=pd.read_csv('final_data.csv')\n",
    "time=data['Unnamed: 0']*del_t\n",
    "data['Unnamed: 0']\n",
    "time"
   ]
  },
  {
   "cell_type": "code",
   "execution_count": 5,
   "metadata": {},
   "outputs": [
    {
     "data": {
      "text/html": [
       "<div>\n",
       "<style scoped>\n",
       "    .dataframe tbody tr th:only-of-type {\n",
       "        vertical-align: middle;\n",
       "    }\n",
       "\n",
       "    .dataframe tbody tr th {\n",
       "        vertical-align: top;\n",
       "    }\n",
       "\n",
       "    .dataframe thead th {\n",
       "        text-align: right;\n",
       "    }\n",
       "</style>\n",
       "<table border=\"1\" class=\"dataframe\">\n",
       "  <thead>\n",
       "    <tr style=\"text-align: right;\">\n",
       "      <th></th>\n",
       "      <th>Unnamed: 0</th>\n",
       "      <th>0.625 MHz</th>\n",
       "      <th>1.25 MHz</th>\n",
       "      <th>1.875 MHz</th>\n",
       "      <th>2.5 MHz</th>\n",
       "      <th>3.125 MHz</th>\n",
       "      <th>3.75 MHz</th>\n",
       "      <th>4.375 MHz</th>\n",
       "      <th>5 MHz</th>\n",
       "      <th>5.625 MHz</th>\n",
       "      <th>6.25 MHz</th>\n",
       "    </tr>\n",
       "  </thead>\n",
       "  <tbody>\n",
       "    <tr>\n",
       "      <th>0</th>\n",
       "      <td>0</td>\n",
       "      <td>6912</td>\n",
       "      <td>-9984</td>\n",
       "      <td>-5888</td>\n",
       "      <td>11264</td>\n",
       "      <td>-10496</td>\n",
       "      <td>-4096</td>\n",
       "      <td>-15360</td>\n",
       "      <td>7680</td>\n",
       "      <td>1536</td>\n",
       "      <td>12800</td>\n",
       "    </tr>\n",
       "    <tr>\n",
       "      <th>1</th>\n",
       "      <td>1</td>\n",
       "      <td>14080</td>\n",
       "      <td>-15360</td>\n",
       "      <td>-12544</td>\n",
       "      <td>-2304</td>\n",
       "      <td>10496</td>\n",
       "      <td>-5888</td>\n",
       "      <td>7936</td>\n",
       "      <td>15360</td>\n",
       "      <td>10240</td>\n",
       "      <td>12800</td>\n",
       "    </tr>\n",
       "    <tr>\n",
       "      <th>2</th>\n",
       "      <td>2</td>\n",
       "      <td>16128</td>\n",
       "      <td>512</td>\n",
       "      <td>13568</td>\n",
       "      <td>-7680</td>\n",
       "      <td>-10496</td>\n",
       "      <td>13312</td>\n",
       "      <td>10496</td>\n",
       "      <td>2048</td>\n",
       "      <td>15104</td>\n",
       "      <td>12800</td>\n",
       "    </tr>\n",
       "    <tr>\n",
       "      <th>3</th>\n",
       "      <td>3</td>\n",
       "      <td>11776</td>\n",
       "      <td>15616</td>\n",
       "      <td>4096</td>\n",
       "      <td>14592</td>\n",
       "      <td>10496</td>\n",
       "      <td>-15872</td>\n",
       "      <td>-14592</td>\n",
       "      <td>-14080</td>\n",
       "      <td>14080</td>\n",
       "      <td>12800</td>\n",
       "    </tr>\n",
       "    <tr>\n",
       "      <th>4</th>\n",
       "      <td>4</td>\n",
       "      <td>3072</td>\n",
       "      <td>8960</td>\n",
       "      <td>-16128</td>\n",
       "      <td>-15872</td>\n",
       "      <td>-10496</td>\n",
       "      <td>12288</td>\n",
       "      <td>-1536</td>\n",
       "      <td>-10752</td>\n",
       "      <td>7680</td>\n",
       "      <td>12800</td>\n",
       "    </tr>\n",
       "    <tr>\n",
       "      <th>...</th>\n",
       "      <td>...</td>\n",
       "      <td>...</td>\n",
       "      <td>...</td>\n",
       "      <td>...</td>\n",
       "      <td>...</td>\n",
       "      <td>...</td>\n",
       "      <td>...</td>\n",
       "      <td>...</td>\n",
       "      <td>...</td>\n",
       "      <td>...</td>\n",
       "      <td>...</td>\n",
       "    </tr>\n",
       "    <tr>\n",
       "      <th>15995</th>\n",
       "      <td>15995</td>\n",
       "      <td>-12800</td>\n",
       "      <td>-15872</td>\n",
       "      <td>14592</td>\n",
       "      <td>14848</td>\n",
       "      <td>-11008</td>\n",
       "      <td>2048</td>\n",
       "      <td>15872</td>\n",
       "      <td>10240</td>\n",
       "      <td>15360</td>\n",
       "      <td>14848</td>\n",
       "    </tr>\n",
       "    <tr>\n",
       "      <th>15996</th>\n",
       "      <td>15996</td>\n",
       "      <td>-16128</td>\n",
       "      <td>-2304</td>\n",
       "      <td>-11008</td>\n",
       "      <td>-8448</td>\n",
       "      <td>11008</td>\n",
       "      <td>7680</td>\n",
       "      <td>-3584</td>\n",
       "      <td>-8192</td>\n",
       "      <td>11008</td>\n",
       "      <td>14848</td>\n",
       "    </tr>\n",
       "    <tr>\n",
       "      <th>15997</th>\n",
       "      <td>15997</td>\n",
       "      <td>-13312</td>\n",
       "      <td>14592</td>\n",
       "      <td>-7936</td>\n",
       "      <td>-1280</td>\n",
       "      <td>-11008</td>\n",
       "      <td>-14336</td>\n",
       "      <td>-13568</td>\n",
       "      <td>-15360</td>\n",
       "      <td>2304</td>\n",
       "      <td>14848</td>\n",
       "    </tr>\n",
       "    <tr>\n",
       "      <th>15998</th>\n",
       "      <td>15998</td>\n",
       "      <td>-5376</td>\n",
       "      <td>11264</td>\n",
       "      <td>15872</td>\n",
       "      <td>10496</td>\n",
       "      <td>11008</td>\n",
       "      <td>15616</td>\n",
       "      <td>12032</td>\n",
       "      <td>-1280</td>\n",
       "      <td>-7168</td>\n",
       "      <td>14848</td>\n",
       "    </tr>\n",
       "    <tr>\n",
       "      <th>15999</th>\n",
       "      <td>15999</td>\n",
       "      <td>4608</td>\n",
       "      <td>-7680</td>\n",
       "      <td>-2048</td>\n",
       "      <td>0</td>\n",
       "      <td>-11008</td>\n",
       "      <td>-11008</td>\n",
       "      <td>0</td>\n",
       "      <td>14592</td>\n",
       "      <td>0</td>\n",
       "      <td>14848</td>\n",
       "    </tr>\n",
       "  </tbody>\n",
       "</table>\n",
       "<p>16000 rows × 11 columns</p>\n",
       "</div>"
      ],
      "text/plain": [
       "       Unnamed: 0  0.625 MHz  1.25 MHz  1.875 MHz  2.5 MHz  3.125 MHz  \\\n",
       "0               0       6912     -9984      -5888    11264     -10496   \n",
       "1               1      14080    -15360     -12544    -2304      10496   \n",
       "2               2      16128       512      13568    -7680     -10496   \n",
       "3               3      11776     15616       4096    14592      10496   \n",
       "4               4       3072      8960     -16128   -15872     -10496   \n",
       "...           ...        ...       ...        ...      ...        ...   \n",
       "15995       15995     -12800    -15872      14592    14848     -11008   \n",
       "15996       15996     -16128     -2304     -11008    -8448      11008   \n",
       "15997       15997     -13312     14592      -7936    -1280     -11008   \n",
       "15998       15998      -5376     11264      15872    10496      11008   \n",
       "15999       15999       4608     -7680      -2048        0     -11008   \n",
       "\n",
       "       3.75 MHz  4.375 MHz  5 MHz  5.625 MHz  6.25 MHz  \n",
       "0         -4096     -15360   7680       1536     12800  \n",
       "1         -5888       7936  15360      10240     12800  \n",
       "2         13312      10496   2048      15104     12800  \n",
       "3        -15872     -14592 -14080      14080     12800  \n",
       "4         12288      -1536 -10752       7680     12800  \n",
       "...         ...        ...    ...        ...       ...  \n",
       "15995      2048      15872  10240      15360     14848  \n",
       "15996      7680      -3584  -8192      11008     14848  \n",
       "15997    -14336     -13568 -15360       2304     14848  \n",
       "15998     15616      12032  -1280      -7168     14848  \n",
       "15999    -11008          0  14592          0     14848  \n",
       "\n",
       "[16000 rows x 11 columns]"
      ]
     },
     "execution_count": 5,
     "metadata": {},
     "output_type": "execute_result"
    }
   ],
   "source": [
    "data"
   ]
  },
  {
   "cell_type": "code",
   "execution_count": null,
   "metadata": {},
   "outputs": [],
   "source": [
    "data['2.5 MHz'][379:385]"
   ]
  },
  {
   "cell_type": "markdown",
   "metadata": {},
   "source": [
    "5.2"
   ]
  },
  {
   "cell_type": "code",
   "execution_count": null,
   "metadata": {
    "scrolled": false
   },
   "outputs": [],
   "source": [
    "fig, axs = plt.subplots(3, 3,sharey=True,sharex=True,figsize=(10,10))\n",
    "axs[0,0].set_ylabel('V')\n",
    "axs[1,0].set_ylabel('V')\n",
    "axs[2,0].set_ylabel('V')\n",
    "axs[0,0].plot(time[:50],data['0.625 MHz'][:50]/(2**15))\n",
    "axs[0,0].set_title('0.625 MHz Sine Signal')\n",
    "axs[0,1].plot(time[:50],data['1.25 MHz'][:50]/(2**15))\n",
    "axs[0,1].set_title('1.25 MHz Sine Signal')\n",
    "axs[0,2].plot(time[:50],data['1.875 MHz'][:50]/(2**15))\n",
    "axs[0,2].set_title('1.875 MHz Sine Signal')\n",
    "axs[1,0].plot(time[:50],data['2.5 MHz'][:50]/(2**15))\n",
    "axs[1,0].set_title('2.5 MHz Sine Signal')\n",
    "axs[1,1].plot(time[:50],data['3.125 MHz'][:50]/(2**15))\n",
    "axs[1,1].set_title('3.125 MHz Sine Signal')\n",
    "axs[1,2].plot(time[:50],data['3.75 MHz'][:50]/(2**15))\n",
    "axs[1,2].set_title('3.75 MHz Sine Signal')\n",
    "axs[2,0].plot(time[:50],data['4.375 MHz'][:50]/(2**15))\n",
    "axs[2,0].set_title('4.375 MHz Sine Signal')\n",
    "axs[2,1].plot(time[:50],data['5 MHz'][:50]/(2**15))\n",
    "axs[2,1].set_title('5 MHz Sine Signal')\n",
    "axs[2,2].plot(time[:50],data['5.625 MHz'][:50]/(2**15))\n",
    "axs[2,2].set_title('5.625 MHz Sine Signal')\n",
    "axs[2,0].xaxis.set_major_locator(plt.MaxNLocator(3))\n",
    "axs[2,0].set_xlabel('Time(s)')\n",
    "axs[2,1].set_xlabel('Time(s)')\n",
    "axs[2,2].set_xlabel('Time(s)')\n"
   ]
  },
  {
   "cell_type": "code",
   "execution_count": 49,
   "metadata": {},
   "outputs": [
    {
     "ename": "IndexError",
     "evalue": "only integers, slices (`:`), ellipsis (`...`), numpy.newaxis (`None`) and integer or boolean arrays are valid indices",
     "output_type": "error",
     "traceback": [
      "\u001b[0;31m---------------------------------------------------------------------------\u001b[0m",
      "\u001b[0;31mIndexError\u001b[0m                                Traceback (most recent call last)",
      "\u001b[0;32m<ipython-input-49-39adcfbc38f9>\u001b[0m in \u001b[0;36m<module>\u001b[0;34m\u001b[0m\n\u001b[1;32m      2\u001b[0m \u001b[0mx_new\u001b[0m\u001b[0;34m=\u001b[0m\u001b[0mnp\u001b[0m\u001b[0;34m.\u001b[0m\u001b[0mfft\u001b[0m\u001b[0;34m.\u001b[0m\u001b[0mfftshift\u001b[0m\u001b[0;34m(\u001b[0m\u001b[0mx\u001b[0m\u001b[0;34m)\u001b[0m\u001b[0;34m\u001b[0m\u001b[0;34m\u001b[0m\u001b[0m\n\u001b[1;32m      3\u001b[0m \u001b[0mx_new\u001b[0m\u001b[0;34m\u001b[0m\u001b[0;34m\u001b[0m\u001b[0m\n\u001b[0;32m----> 4\u001b[0;31m \u001b[0mplt\u001b[0m\u001b[0;34m.\u001b[0m\u001b[0mplot\u001b[0m\u001b[0;34m(\u001b[0m\u001b[0mx_new\u001b[0m\u001b[0;34m/\u001b[0m\u001b[0;36m1e6\u001b[0m\u001b[0;34m,\u001b[0m\u001b[0mnp\u001b[0m\u001b[0;34m.\u001b[0m\u001b[0mfft\u001b[0m\u001b[0;34m.\u001b[0m\u001b[0mfftshift\u001b[0m\u001b[0;34m(\u001b[0m\u001b[0mnp\u001b[0m\u001b[0;34m.\u001b[0m\u001b[0mfft\u001b[0m\u001b[0;34m.\u001b[0m\u001b[0mfft\u001b[0m\u001b[0;34m(\u001b[0m\u001b[0;34m(\u001b[0m\u001b[0mdata\u001b[0m\u001b[0;34m[\u001b[0m\u001b[0;34m'0.625 MHz'\u001b[0m\u001b[0;34m]\u001b[0m\u001b[0;34m)\u001b[0m\u001b[0;34m)\u001b[0m\u001b[0;34m.\u001b[0m\u001b[0mimag\u001b[0m\u001b[0;34m)\u001b[0m\u001b[0;34m)\u001b[0m\u001b[0;34m\u001b[0m\u001b[0;34m\u001b[0m\u001b[0m\n\u001b[0m",
      "\u001b[0;31mIndexError\u001b[0m: only integers, slices (`:`), ellipsis (`...`), numpy.newaxis (`None`) and integer or boolean arrays are valid indices"
     ]
    }
   ],
   "source": [
    "x=np.fft.fftfreq(16000,del_t)\n",
    "x_new=np.fft.fftshift(x)\n",
    "x_new\n",
    "plt.plot(x_new/1e6,np.fft.fftshift(np.fft.fft((data['0.625 MHz'])).imag))\n"
   ]
  },
  {
   "cell_type": "code",
   "execution_count": null,
   "metadata": {},
   "outputs": [],
   "source": [
    "E1=np.fft.fftshift(np.fft.fft((data['0.625 MHz']/2**15)))\n",
    "P1=np.abs(E1)**2\n",
    "E2=np.fft.fftshift(np.fft.fft((data['1.25 MHz']/2**15)))\n",
    "P2=np.abs(E2)**2\n",
    "E3=np.fft.fftshift(np.fft.fft((data['1.875 MHz']/2**15)))\n",
    "P3=np.abs(E3)**2\n",
    "E4=np.fft.fftshift(np.fft.fft((data['2.5 MHz']/2**15)))\n",
    "P4=np.abs(E4)**2\n",
    "E5=np.fft.fftshift(np.fft.fft((data['3.125 MHz']/2**15)))\n",
    "P5=np.abs(E5)**2\n",
    "E6=np.fft.fftshift(np.fft.fft((data['3.75 MHz']/2**15)))\n",
    "P6=np.abs(E6)**2\n",
    "E7=np.fft.fftshift(np.fft.fft((data['4.375 MHz']/2**15)))\n",
    "P7=np.abs(E7)**2\n",
    "E8=np.fft.fftshift(np.fft.fft((data['5 MHz']/2**15)))\n",
    "P8=np.abs(E8)**2\n",
    "E9=np.fft.fftshift(np.fft.fft((data['5.625 MHz']/2**15)))\n",
    "P9=np.abs(E9)**2\n",
    "E10=np.fft.fftshift(np.fft.fft((data['6.25 MHz']/2**15)))\n",
    "P10=np.abs(E10)**2\n",
    "plt.plot(x_new,P10)"
   ]
  },
  {
   "cell_type": "code",
   "execution_count": null,
   "metadata": {},
   "outputs": [],
   "source": [
    "import ugradio\n",
    "\n",
    "fig, axs = plt.subplots(3, 3,sharey=True,sharex=True,figsize=(18,18))\n",
    "\n",
    "axs[0,0].set_ylabel('Power')\n",
    "axs[1,0].set_ylabel('Power')\n",
    "axs[2,0].set_ylabel('Power')\n",
    "axs[0,0].plot(x/1e6,P1)\n",
    "axs[0,0].set_title('0.625 MHz Power Spectrum')\n",
    "axs[0,1].plot(x/1e6,P2)\n",
    "axs[0,1].set_title('1.25 MHz Power Spectrum')\n",
    "axs[0,2].plot(x/1e6,P3)\n",
    "axs[0,2].set_title('1.875 MHz Power Spectrum')\n",
    "axs[1,0].plot(x/1e6,P4)\n",
    "axs[1,0].set_title('2.5 MHz Power Spectrum')\n",
    "axs[1,1].plot(x/1e6,P5)\n",
    "axs[1,1].set_title('3.125 MHz Power Spectrum')\n",
    "axs[1,2].plot(x/1e6,P6)\n",
    "axs[1,2].set_title('3.75 MHz Power Spectrum')\n",
    "axs[2,0].plot(x/1e6,P7)\n",
    "axs[2,0].set_title('4.375 MHz Power Spectrum')\n",
    "axs[2,1].plot(x/1e6,P8)\n",
    "axs[2,1].set_title('5 MHz Power Spectrum')\n",
    "axs[2,2].plot(x/1e6,P9)\n",
    "axs[2,2].set_title('5.625 MHz Power Spectrum')\n",
    "axs[2,0].set_xlabel('Frequency(MHz)')\n",
    "axs[2,1].set_xlabel('Frequency(MHz)')\n",
    "axs[2,2].set_xlabel('Frequency(MHz)')\n"
   ]
  },
  {
   "cell_type": "code",
   "execution_count": null,
   "metadata": {},
   "outputs": [],
   "source": [
    "plt.plot(x/1e6,E2)\n",
    "plt.plot(x/1e6,E8)"
   ]
  },
  {
   "cell_type": "code",
   "execution_count": null,
   "metadata": {},
   "outputs": [],
   "source": [
    "fig, axs = plt.subplots(1, 2,figsize=(12,5.5))\n",
    "axs[0].plot(x_new/1e6,P2)\n",
    "axs[1].plot(x_new/1e6,P8)\n",
    "axs[0].set_xlabel('Frequency(MHz)')\n",
    "axs[0].set_title('1.25 MHz Power Spectrum')\n",
    "axs[1].set_title('5 MHz Power Spectrum')\n",
    "axs[0].set_ylabel('Power ($V^{2}$)')\n",
    "axs[1].set_ylabel('Power ($V^{2}$)')\n",
    "axs[1].set_xlabel('Frequency(MHz)')\n",
    "axs[0].grid()\n",
    "axs[1].grid()\n",
    "axs[0].locator_params(axis=\"x\", nbins=10)\n",
    "axs[1].locator_params(axis=\"x\", nbins=10)\n"
   ]
  },
  {
   "cell_type": "markdown",
   "metadata": {},
   "source": [
    "5.3"
   ]
  },
  {
   "cell_type": "code",
   "execution_count": null,
   "metadata": {},
   "outputs": [],
   "source": [
    "data=np.load('0.1_nu_s_realizations (2).npy')\n",
    "for i in range(5):\n",
    "    plt.plot(x_new/1e6,np.fft.fftshift((np.fft.fft(data[i,:]).imag)),label='imaginary',linestyle='dashed')\n",
    "    plt.plot(x_new/1e6,np.fft.fftshift(np.fft.fft(data[i,:]).real),label='real')\n",
    "    plt.legend()\n",
    "    plt.figure()\n"
   ]
  },
  {
   "cell_type": "code",
   "execution_count": null,
   "metadata": {},
   "outputs": [],
   "source": [
    "data=np.load('0.1_nu_s_realizations (2).npy')\n",
    "for i in range(5):\n",
    "    plt.figure(figsize=(6,4))\n",
    "    plt.plot(x_new/1e6,np.fft.fftshift((np.fft.fft(data[i,:]).imag)/2**15),label='imaginary',linestyle='dashed')\n",
    "    plt.plot(x_new/1e6,np.fft.fftshift(np.fft.fft(data[i,:]).real)/2**15,label='real')\n",
    "    plt.legend(loc='upper left',fontsize='x-small')\n",
    "    plt.xlabel('Frequency MHz')\n",
    "    plt.title('0.625 MHz Realization{0:3.0f}'.format(i))\n"
   ]
  },
  {
   "cell_type": "code",
   "execution_count": null,
   "metadata": {},
   "outputs": [],
   "source": [
    "data=np.load('0.8_nu_s_realizations.npy')\n",
    "\n",
    "for i in range(4):\n",
    "    plt.semilogy(x_new/1e6,np.abs(np.fft.fftshift((np.fft.fft(data[i,:]))))**2)\n",
    "    plt.figure()\n",
    "    "
   ]
  },
  {
   "cell_type": "code",
   "execution_count": null,
   "metadata": {},
   "outputs": [],
   "source": [
    "Fourier=np.fft.fft(data[0,:]/2**15)\n",
    "Power=np.abs(Fourier)**2\n",
    "inv=ugradio.dft.idft(Power)\n",
    "inv"
   ]
  },
  {
   "cell_type": "code",
   "execution_count": null,
   "metadata": {},
   "outputs": [],
   "source": [
    "print(\"Zero Padding:\")\n",
    "data_padded = np.zeros(len(data[0,:]) + 4000)\n",
    "data_padded[6000:14000] = data[0,4000:12000]\n",
    "\n",
    "\n",
    "print(\"Calculating ACF with DFT/np.FFT Manually\")\n",
    "FFT_0p1 = ugradio.dft.dft(data_padded/(2**15))\n",
    "ACS_dft = ugradio.dft.idft(np.abs(FFT_0p1[1])**2, f=FFT_0p1[0])\n",
    "ACS_nft = np.fft.fftshift(np.fft.ifft(np.abs(np.fft.fft(data_padded/(2**15)))**2))"
   ]
  },
  {
   "cell_type": "code",
   "execution_count": null,
   "metadata": {},
   "outputs": [],
   "source": [
    "print(\"Calculating ACF with np.correlate & scipy.correlate\")\n",
    "import scipy.signal as sig\n",
    "\n",
    "ACS_np = np.correlate(data_padded/(2**15),data_padded/(2**15), mode='same')\n",
    "ACS_scipy = sig.correlate(data_padded/(2**15),data_padded/(2**15), mode=\"same\")"
   ]
  },
  {
   "cell_type": "code",
   "execution_count": null,
   "metadata": {},
   "outputs": [],
   "source": [
    "ACS_nft"
   ]
  },
  {
   "cell_type": "code",
   "execution_count": null,
   "metadata": {},
   "outputs": [],
   "source": [
    "\n",
    "# np.shape(Auto_C_dft)\n",
    "plt.figure(figsize=(10,6))\n",
    "plt.plot(ACS_dft[1]/2, label=\"dft\")\n",
    "# plt.plot(ACS_dft[1]/2 - ACS_nft/2, label=\"nft\")\n",
    "# plt.plot(ACS_nft/2, label=\"nft\")\n",
    "plt.plot(ACS_np, linestyle=\"--\",color=\"red\", alpha=0.5, label=\"numpy\")\n",
    "plt.plot(ACS_scipy, linestyle=\":\",color=\"yellow\", alpha=0.5, label=\"scipy\")\n",
    "# plt.xlim(3500,5100)\n",
    "plt.legend()\n",
    "# plt.xlim(-100,100)"
   ]
  },
  {
   "cell_type": "code",
   "execution_count": null,
   "metadata": {},
   "outputs": [],
   "source": []
  },
  {
   "cell_type": "markdown",
   "metadata": {},
   "source": [
    "5.4"
   ]
  },
  {
   "cell_type": "code",
   "execution_count": null,
   "metadata": {},
   "outputs": [],
   "source": [
    "ugradio.dft??"
   ]
  },
  {
   "cell_type": "code",
   "execution_count": null,
   "metadata": {},
   "outputs": [],
   "source": [
    "vs=6.25e6\n",
    "vsamp=6.25e6\n",
    "N=16000\n",
    "Power1=ugradio.dft.dft(data[0,:],t = np.linspace(-N/(2.0*vs),N/(2.0*vs),num=16000,endpoint=False),f=np.linspace(-vsamp/2.,vsamp/2.,num=30000,endpoint=False),vsamp=6.25e6)"
   ]
  },
  {
   "cell_type": "code",
   "execution_count": null,
   "metadata": {},
   "outputs": [],
   "source": [
    "power=np.abs(Power1[1])**2\n",
    "plt.semilogy(Power1[0],Power1[1])\n",
    "np.savez('Spectral leakage',Power1)"
   ]
  },
  {
   "cell_type": "code",
   "execution_count": null,
   "metadata": {},
   "outputs": [],
   "source": [
    "Power2=ugradio.dft.dft(data[0,:])\n",
    "Power2"
   ]
  },
  {
   "cell_type": "code",
   "execution_count": null,
   "metadata": {},
   "outputs": [],
   "source": [
    "plt.semilogy(Power2[0],np.abs(Power2[1])**2)\n",
    "#plt.semilogy(x_new/1e6,np.abs(Power2[1])**2)\n",
    "plt.semilogy(Power1[0],Power1[1])\n"
   ]
  },
  {
   "cell_type": "code",
   "execution_count": null,
   "metadata": {},
   "outputs": [],
   "source": [
    "Power1[1]"
   ]
  },
  {
   "cell_type": "markdown",
   "metadata": {},
   "source": [
    "5.5"
   ]
  },
  {
   "cell_type": "code",
   "execution_count": null,
   "metadata": {},
   "outputs": [],
   "source": [
    "N=16000\n",
    "vs=6.25e6\n",
    "vsamp=6.25e6\n",
    "import ugradio\n",
    "data=np.load('thousandth.npy')\n",
    "Fourier=ugradio.dft.dft(data[0,:][0,:],t = np.linspace(-N/(2.0*vs),N/(2.0*vs),num=16000,endpoint=False),f=np.linspace(-vsamp/2.,vsamp/2.,num=30000,endpoint=False),vsamp=6.25e6)\n",
    "Fourier1=ugradio.dft.dft(data[0,:][0,:],t = np.linspace(-N/(2.0*vs),N/(2.0*vs),num=16000,endpoint=False),f=np.linspace(-vsamp/2.,vsamp/2.,num=16000,endpoint=False),vsamp=6.25e6)"
   ]
  },
  {
   "cell_type": "code",
   "execution_count": null,
   "metadata": {},
   "outputs": [],
   "source": [
    "Fourier1[0]"
   ]
  },
  {
   "cell_type": "code",
   "execution_count": null,
   "metadata": {},
   "outputs": [],
   "source": [
    "#plt.plot(Fourier[0]/1e6,np.abs(Fourier[1])**2)\n",
    "plt.xlim(-1.005,-0.995)\n",
    "plt.plot(Fourier1[0]/1e6,np.abs(Fourier1[1]**2),color='r')\n",
    "plt.plot(Fourier[0]/1e6,np.abs(Fourier[1]**2),color='b')"
   ]
  },
  {
   "cell_type": "markdown",
   "metadata": {},
   "source": [
    "##### 5.6"
   ]
  },
  {
   "cell_type": "code",
   "execution_count": null,
   "metadata": {},
   "outputs": [],
   "source": [
    "data4=np.load('nyquist_window_4.npy')\n",
    "data5=np.load('nyquist_window_5.npy')\n",
    "data6=np.load('nyquist_window_6.npy')\n",
    "Fourier4=np.fft.fftshift(np.fft.fft(data4[:,0]/2**15))\n",
    "Fourier6=np.fft.fftshift(np.fft.fft(data6[:,0]/2**15))\n",
    "plt.plot(x_new/1e6,abs(Fourier4[0])**2,label='N=4')\n",
    "plt.plot(x_new/1e6,abs(Fourier6[0]**2),label='N=6')\n",
    "plt.grid()\n",
    "plt.legend()\n",
    "plt.title('Nyquist Windows')\n",
    "plt.xlabel('Freuqnecy(MHz)')\n",
    "plt.ylabel('Power($V^2$)')"
   ]
  },
  {
   "cell_type": "markdown",
   "metadata": {},
   "source": [
    "##### 5.7"
   ]
  },
  {
   "cell_type": "code",
   "execution_count": 6,
   "metadata": {},
   "outputs": [],
   "source": [
    "import numpy as np\n",
    "import matplotlib.pyplot as plt\n",
    "def gaussian(x,A,mu,sigma):\n",
    "    return A*np.exp(-(x-mu)**2/(2*sigma**2))"
   ]
  },
  {
   "cell_type": "code",
   "execution_count": 41,
   "metadata": {},
   "outputs": [
    {
     "data": {
      "text/plain": [
       "-0.00133349609375"
      ]
     },
     "execution_count": 41,
     "metadata": {},
     "output_type": "execute_result"
    }
   ],
   "source": [
    "data=np.load('blocks_100.npy')\n",
    "block_1=data[:,0][0,:]\n",
    "mean=np.mean(block_1/2**15)\n",
    "SD=np.std(block_1/2**15)\n",
    "mean"
   ]
  },
  {
   "cell_type": "code",
   "execution_count": 26,
   "metadata": {},
   "outputs": [
    {
     "data": {
      "text/plain": [
       "[<matplotlib.lines.Line2D at 0x7f35694484a8>]"
      ]
     },
     "execution_count": 26,
     "metadata": {},
     "output_type": "execute_result"
    },
    {
     "data": {
      "image/png": "[encoded data removed]",
      "text/plain": [
       "<Figure size 432x288 with 1 Axes>"
      ]
     },
     "metadata": {
      "needs_background": "light"
     },
     "output_type": "display_data"
    }
   ],
   "source": [
    "A=8\n",
    "x_lin=np.linspace(-0.2,0.2,1000)\n",
    "G=gaussian(x_lin,91.24,mean,SD)\n",
    "plt.plot(x_lin,G)"
   ]
  },
  {
   "cell_type": "code",
   "execution_count": 28,
   "metadata": {},
   "outputs": [
    {
     "data": {
      "text/plain": [
       "(-0.05, 0.05)"
      ]
     },
     "execution_count": 28,
     "metadata": {},
     "output_type": "execute_result"
    },
    {
     "data": {
      "image/png": "[encoded data removed]",
      "text/plain": [
       "<Figure size 432x288 with 1 Axes>"
      ]
     },
     "metadata": {
      "needs_background": "light"
     },
     "output_type": "display_data"
    }
   ],
   "source": [
    "#plt.scatter(np.linspace(-1,1,16000),block_1/2**15,alpha=1)\n",
    "plt.hist(block_1/2**15,density=True)\n",
    "plt.plot(x_lin,G)\n",
    "plt.xlim(-0.05,0.05)"
   ]
  },
  {
   "cell_type": "code",
   "execution_count": 98,
   "metadata": {},
   "outputs": [
    {
     "name": "stderr",
     "output_type": "stream",
     "text": [
      "/usr/local/lib/python3.6/dist-packages/ipykernel_launcher.py:6: ComplexWarning: Casting complex values to real discards the imaginary part\n",
      "  \n"
     ]
    },
    {
     "data": {
      "text/plain": [
       "[<matplotlib.lines.Line2D at 0x7f35689a1080>]"
      ]
     },
     "execution_count": 98,
     "metadata": {},
     "output_type": "execute_result"
    },
    {
     "data": {
      "image/png": "[encoded data removed]",
      "text/plain": [
       "<Figure size 432x288 with 1 Axes>"
      ]
     },
     "metadata": {
      "needs_background": "light"
     },
     "output_type": "display_data"
    }
   ],
   "source": [
    "avg_array=np.empty((16000,100))\n",
    "for i in range(len(data[0,:])):\n",
    "    Fourier=np.fft.fftshift(np.fft.fft(data[0,:][i,:]/2**15))\n",
    "    Power=np.abs(Fourier)**2\n",
    "    plt.plot(x_new/1e6,Power)\n",
    "    avg_array[:,i]=np.fft.fftshift(np.fft.fft(data[0,:][i,:]/2**15))\n",
    "    average=np.average(Fourier[i])\n",
    "    Power2=np.abs(average)**2\n",
    "Mean=np.mean(avg_array,axis=1)\n",
    "plt.plot(x_new/1e6,Mean**2)\n"
   ]
  },
  {
   "cell_type": "code",
   "execution_count": 133,
   "metadata": {},
   "outputs": [
    {
     "data": {
      "text/plain": [
       "[<matplotlib.lines.Line2D at 0x7f35695d7198>]"
      ]
     },
     "execution_count": 133,
     "metadata": {},
     "output_type": "execute_result"
    },
    {
     "data": {
      "image/png": "[encoded data removed]",
      "text/plain": [
       "<Figure size 432x288 with 1 Axes>"
      ]
     },
     "metadata": {
      "needs_background": "light"
     },
     "output_type": "display_data"
    }
   ],
   "source": [
    "Fourier_one=np.fft.fftshift(np.fft.fft(data[:,0][0,:]/2**15))\n",
    "plt.plot(x_new/1e6,np.abs(Fourier_one)**2)"
   ]
  },
  {
   "cell_type": "code",
   "execution_count": 141,
   "metadata": {},
   "outputs": [
    {
     "data": {
      "text/plain": [
       "[<matplotlib.lines.Line2D at 0x7f3567f01a58>]"
      ]
     },
     "execution_count": 141,
     "metadata": {},
     "output_type": "execute_result"
    },
    {
     "data": {
      "image/png": "[encoded data removed]",
      "text/plain": [
       "<Figure size 432x288 with 1 Axes>"
      ]
     },
     "metadata": {
      "needs_background": "light"
     },
     "output_type": "display_data"
    }
   ],
   "source": [
    "data=np.load('blocks_100.npy')\n",
    "Fourier=np.fft.fftshift(np.fft.fft(data/2**15))\n",
    "mean=np.mean(Fourier,axis=1)\n",
    "plt.plot(x_new/1e6,abs(mean[0,:])**2)\n"
   ]
  },
  {
   "cell_type": "code",
   "execution_count": 148,
   "metadata": {},
   "outputs": [
    {
     "name": "stdout",
     "output_type": "stream",
     "text": [
      "Zero Padding:\n",
      "16000\n",
      "Calculating ACF with DFT/np.FFT Manually\n"
     ]
    }
   ],
   "source": [
    "print(\"Zero Padding:\")\n",
    "import ugradio\n",
    "data=block_1\n",
    "print(len(data))\n",
    "data_padded = np.zeros(len(data)+4000)\n",
    "data_padded[6000:14000] = data[4000:12000]\n",
    "\n",
    "\n",
    "print(\"Calculating ACF with DFT/np.FFT Manually\")\n",
    "FFT_0p1 = ugradio.dft.dft(data_padded/(2**15))\n",
    "ACS_dft = ugradio.dft.idft(np.abs(FFT_0p1[1])**2, f=FFT_0p1[0])\n",
    "ACS_nft = np.fft.fftshift(np.fft.ifft(np.abs(np.fft.fft(data_padded/(2**15)))**2))"
   ]
  },
  {
   "cell_type": "code",
   "execution_count": 149,
   "metadata": {},
   "outputs": [
    {
     "name": "stdout",
     "output_type": "stream",
     "text": [
      "Calculating ACF with np.correlate & scipy.correlate\n"
     ]
    }
   ],
   "source": [
    "print(\"Calculating ACF with np.correlate & scipy.correlate\")\n",
    "import scipy.signal as sig\n",
    "\n",
    "ACS_np = np.correlate(data_padded/(2**15),data_padded/(2**15), mode='same')\n",
    "ACS_scipy = sig.correlate(data_padded/(2**15),data_padded/(2**15), mode=\"same\")"
   ]
  },
  {
   "cell_type": "code",
   "execution_count": 154,
   "metadata": {},
   "outputs": [
    {
     "data": {
      "text/plain": [
       "<matplotlib.legend.Legend at 0x7f34d9a23518>"
      ]
     },
     "execution_count": 154,
     "metadata": {},
     "output_type": "execute_result"
    },
    {
     "data": {
      "image/png": "[encoded data removed]",
      "text/plain": [
       "<Figure size 720x432 with 1 Axes>"
      ]
     },
     "metadata": {
      "needs_background": "light"
     },
     "output_type": "display_data"
    }
   ],
   "source": [
    "# np.shape(Auto_C_dft)\n",
    "plt.figure(figsize=(10,6))\n",
    "plt.plot(ACS_dft[1]/2, label=\"dft\")\n",
    "# plt.plot(ACS_dft[1]/2 - ACS_nft/2, label=\"nft\")\n",
    "# plt.plot(ACS_nft/2, label=\"nft\")\n",
    "plt.plot(ACS_np, linestyle=\"--\",color=\"red\", alpha=0.5, label=\"numpy\")\n",
    "plt.plot(ACS_scipy, linestyle=\":\",color=\"yellow\", alpha=0.5, label=\"scipy\")\n",
    "# plt.xlim(3500,5100)\n",
    "plt.legend()\n",
    "# plt.xlim(-100,100)"
   ]
  },
  {
   "cell_type": "code",
   "execution_count": null,
   "metadata": {},
   "outputs": [],
   "source": []
  },
  {
   "cell_type": "code",
   "execution_count": null,
   "metadata": {},
   "outputs": [],
   "source": []
  },
  {
   "cell_type": "markdown",
   "metadata": {},
   "source": [
    "7.1"
   ]
  },
  {
   "cell_type": "code",
   "execution_count": null,
   "metadata": {},
   "outputs": [],
   "source": [
    "data=np.load('mixed_plus.npy')"
   ]
  },
  {
   "cell_type": "code",
   "execution_count": null,
   "metadata": {},
   "outputs": [],
   "source": [
    "v_sample=62.5\n",
    "del_t=1/(v_sample)\n",
    "time=np.arange(16000)*del_t/(1e6)\n",
    "x=np.fft.fftfreq(16000,del_t)\n",
    "x_new=np.fft.fftshift(x)\n",
    "x_new"
   ]
  },
  {
   "cell_type": "code",
   "execution_count": null,
   "metadata": {},
   "outputs": [],
   "source": [
    "Power=np.abs(np.fft.fft(data[0,0,:]))**2/2e15\n",
    "plt.plot(x_new,np.fft.fftshift(Power))\n",
    "plt.xlim(-25,-23)"
   ]
  },
  {
   "cell_type": "code",
   "execution_count": null,
   "metadata": {},
   "outputs": [],
   "source": [
    "plt.plot(time[:1000],data[0,0,:1000],'black')"
   ]
  },
  {
   "cell_type": "code",
   "execution_count": null,
   "metadata": {},
   "outputs": [],
   "source": []
  }
 ],
 "metadata": {
  "kernelspec": {
   "display_name": "Python 3",
   "language": "python",
   "name": "python3"
  },
  "language_info": {
   "codemirror_mode": {
    "name": "ipython",
    "version": 3
   },
   "file_extension": ".py",
   "mimetype": "text/x-python",
   "name": "python",
   "nbconvert_exporter": "python",
   "pygments_lexer": "ipython3",
   "version": "3.6.12"
  }
 },
 "nbformat": 4,
 "nbformat_minor": 4
}
