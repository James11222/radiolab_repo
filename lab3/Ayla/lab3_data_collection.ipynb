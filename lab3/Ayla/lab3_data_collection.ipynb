{
 "cells": [
  {
   "cell_type": "code",
   "execution_count": 1,
   "metadata": {},
   "outputs": [],
   "source": [
    "import ugradio\n",
    "from astropy import units as u\n",
    "from astropy.coordinates import SkyCoord\n",
    "from astropy.time import Time\n",
    "from datetime import datetime\n",
    "from datetime import timedelta\n",
    "import time\n",
    "import numpy as np\n",
    "import matplotlib.pyplot as plt"
   ]
  },
  {
   "cell_type": "code",
   "execution_count": 34,
   "metadata": {},
   "outputs": [],
   "source": [
    "def take_data(obs_length, time_per_iter, dt):\n",
    "    \"\"\"\n",
    "    - obs_length: observation time (minutes)\n",
    "    - time_per_iter: how long to wait before moving the telescope again (seconds)\n",
    "    - dt: how often to read voltage (seconds) (time resolution of data)\n",
    "    \n",
    "    RETURNS\n",
    "    - final_data[0]: array of voltages\n",
    "    - final_data[1]: array of times\n",
    "    \"\"\"\n",
    "    \n",
    "    volts = np.array([])\n",
    "    freqs = np.array([])\n",
    "\n",
    "    imf = ugradio.interf.Interferometer()\n",
    "    hpm = ugradio.hp_multi.HP_Multimeter()\n",
    "    \n",
    "    start_time = ugradio.timing.julian_date() # define start time of observation\n",
    "    delta_jd = obs_length/(24*60)\n",
    "    end_time = start_time + delta_jd # define when to end observation\n",
    "    \n",
    "    jd = ugradio.timing.julian_date()\n",
    "    \n",
    "    # input the time and will return the alt and az of the sun\n",
    "    def calc_sunpos(jd):\n",
    "        ra, dec = ugradio.coord.sunpos(jd) # ra and dec sun coords\n",
    "        lat, long, alt_nch = ugradio.nch.lat, ugradio.nch.lon, ugradio.nch.alt \n",
    "        alt, az = ugradio.coord.get_altaz(ra, dec, jd, lat, long, alt_nch)\n",
    "        return alt, az\n",
    "    \n",
    "    # point to initial sun position\n",
    "    alt, az = calc_sunpos(jd)\n",
    "    print('Moving to initial Sun position...')\n",
    "    imf.point(alt, az)\n",
    "    \n",
    "    i = 0\n",
    "    hpm.start_recording(dt)\n",
    "    while jd < end_time: \n",
    "        print(i, \"iteration\")\n",
    "        # how often to move the telescope    \n",
    "        time.sleep(time_per_iter)\n",
    "        jd = ugradio.timing.julian_date()\n",
    "        \n",
    "        if i%10 == 0:\n",
    "            final_data = hpm.get_recording_data()\n",
    "            np.save(\"final_data.npy\", final_data)\n",
    "            \n",
    "        alt, az = calc_sunpos(jd)\n",
    "        \n",
    "        #pointing\n",
    "        try:\n",
    "            imf.point(alt, az)\n",
    "            print(\"Succesfully pointed, moved to new alt, az: {0:0.3f}, {1:0.3f}\".format(alt, az))\n",
    "            \n",
    "        except:\n",
    "            # check if object is in the northern sky\n",
    "            if alt < ugradio.interf.ALT_MIN or alt > ugradio.interf.ALT_MAX: # if outside alt range\n",
    "                alt -= 180\n",
    "                print('Outside altitude range so flipping.')\n",
    "                \n",
    "            if az < ugradio.interf.AZ_MIN or az > ugradio.interf.AZ_MAX: # if outside az range\n",
    "                az += 180\n",
    "                print('Outside azimuth range so flipping.')\n",
    "                \n",
    "            try:\n",
    "                imf.point(alt, az)\n",
    "                print(\"Succesfully pointed, moved to new alt, az: {0:0.3f}, {1:0.3f}\".format(alt, az))\n",
    "                \n",
    "            except:\n",
    "                print(\"That shit failed, saving data and moving to stow position.\")\n",
    "                break\n",
    "            \n",
    "        i+=1\n",
    "\n",
    "            \n",
    "    final_data = hpm.get_recording_data()\n",
    "    np.save(\"final_data.npy\", final_data)\n",
    "    \n",
    "    hpm.end_recording() # end recording\n",
    "    imf.stow() # stow telescope\n",
    "    \n",
    "    return final_data"
   ]
  },
  {
   "cell_type": "code",
   "execution_count": 42,
   "metadata": {},
   "outputs": [],
   "source": [
    "# volts, times = take_data(2, 2, 0.1)"
   ]
  },
  {
   "cell_type": "code",
   "execution_count": 38,
   "metadata": {},
   "outputs": [
    {
     "data": {
      "text/plain": [
       "[<matplotlib.lines.Line2D at 0x7f7138b4ef28>]"
      ]
     },
     "execution_count": 38,
     "metadata": {},
     "output_type": "execute_result"
    },
    {
     "data": {
      "image/png": "[encoded data removed]",
      "text/plain": [
       "<Figure size 432x288 with 1 Axes>"
      ]
     },
     "metadata": {
      "needs_background": "light"
     },
     "output_type": "display_data"
    }
   ],
   "source": [
    "plt.plot(times, volts)"
   ]
  },
  {
   "cell_type": "code",
   "execution_count": null,
   "metadata": {},
   "outputs": [],
   "source": [
    "#when the object is in the northern sky\n",
    "#180 + az\n",
    "#180 - alt"
   ]
  },
  {
   "cell_type": "code",
   "execution_count": null,
   "metadata": {},
   "outputs": [],
   "source": []
  }
 ],
 "metadata": {
  "kernelspec": {
   "display_name": "Python 3",
   "language": "python",
   "name": "python3"
  },
  "language_info": {
   "codemirror_mode": {
    "name": "ipython",
    "version": 3
   },
   "file_extension": ".py",
   "mimetype": "text/x-python",
   "name": "python",
   "nbconvert_exporter": "python",
   "pygments_lexer": "ipython3",
   "version": "3.6.12"
  }
 },
 "nbformat": 4,
 "nbformat_minor": 4
}
