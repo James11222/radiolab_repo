{
 "cells": [
  {
   "cell_type": "code",
   "execution_count": 1,
   "metadata": {},
   "outputs": [],
   "source": [
    "import ugradio\n",
    "from astropy import units as u\n",
    "from astropy.coordinates import SkyCoord\n",
    "from astropy.time import Time\n",
    "from datetime import datetime\n",
    "from datetime import timedelta\n",
    "import time\n",
    "import numpy as np\n",
    "import matplotlib.pyplot as plt"
   ]
  },
  {
   "cell_type": "code",
   "execution_count": 2,
   "metadata": {},
   "outputs": [],
   "source": [
    "imf = ugradio.interf.Interferometer()\n",
    "hpm = ugradio.hp_multi.HP_Multimeter()"
   ]
  },
  {
   "cell_type": "code",
   "execution_count": 10,
   "metadata": {},
   "outputs": [],
   "source": [
    "def take_data(obs_length, time_per_iter, dt):\n",
    "    \n",
    "    \"\"\"\n",
    "    - obs_length: observation time (minutes)\n",
    "    - time_per_iter: how long to wait before moving the telescope again (seconds)\n",
    "    - dt: how often to read voltage (seconds) (time resolution of data)\n",
    "    \n",
    "    RETURNS\n",
    "    - final_data[0]: array of voltages\n",
    "    - final_data[1]: array of times\n",
    "    \"\"\"\n",
    "    \n",
    "    imf.stow() # stow telescope to initialize data collecting (in case someone else didn't stow)\n",
    "    \n",
    "    start_time = ugradio.timing.julian_date() # define start time of observation\n",
    "    delta_jd = obs_length/(24*60) # convert obs_length to Julian date\n",
    "    end_time = start_time + delta_jd # define when to end observation\n",
    "    \n",
    "    jd = ugradio.timing.julian_date() # default=now\n",
    "    \n",
    "    # input the time and will return the alt and az of the object\n",
    "    def calc_pos(jd):\n",
    "        ra, dec = ugradio.coord.pos(jd) # ra and dec coords\n",
    "        lat, long, alt_nch = ugradio.nch.lat, ugradio.nch.lon, ugradio.nch.alt \n",
    "        alt, az = ugradio.coord.get_altaz(ra, dec, jd, lat, long, alt_nch)\n",
    "        return alt, az # alt, az of the object right now\n",
    "    \n",
    "    # point the telescope to initial object position\n",
    "    alt, az = calc_pos(jd)\n",
    "    print('Moving to initial object position...')\n",
    "    imf.point(alt, az)\n",
    "    \n",
    "    i = 0\n",
    "    hpm.start_recording(dt)\n",
    "    while jd < end_time: \n",
    "        print(i, \"iteration\")\n",
    "        # how often to move the telescope    \n",
    "        time.sleep(time_per_iter) # keep telescope at this position for this amount of time -- collects data\n",
    "        jd = ugradio.timing.julian_date() # recalculate JD\n",
    "        \n",
    "        if i%10 == 0: # saving the data frequently in case of error\n",
    "            final_data = hpm.get_recording_data() # collect data\n",
    "            np.save(\"final_data.npy\", final_data) # dave data\n",
    "            print('Saving data.')\n",
    "            \n",
    "        alt, az = calc_pos(jd) # recalculate the alt, az of the object at new JD\n",
    "        \n",
    "        #pointing\n",
    "        try:\n",
    "            imf.point(alt, az) # repoint the telescope to new alt, az, following the object's path\n",
    "            print(\"Succesfully pointed, moved to new alt, az: {0:0.3f}, {1:0.3f}\".format(alt, az))\n",
    "            \n",
    "        except:\n",
    "            # check if object is in the northern sky\n",
    "            if alt < ugradio.interf.ALT_MIN or alt > ugradio.interf.ALT_MAX: # if outside alt range\n",
    "                alt = 180-alt # flip the telescope so that it doesn't error\n",
    "                #alt -= 180 \n",
    "                print('Outside altitude range so flipping.')\n",
    "                \n",
    "            if az < ugradio.interf.AZ_MIN or az > ugradio.interf.AZ_MAX: # if outside az range\n",
    "                az += 180 # flip the telescope so that it doesn't error\n",
    "                print('Outside azimuth range so flipping.')\n",
    "                \n",
    "            try:\n",
    "                imf.point(alt, az) # point to new alt, az in the event that former alt, az was out of range\n",
    "                print(\"Succesfully pointed, moved to new alt, az: {0:0.3f}, {1:0.3f}\".format(alt, az))\n",
    "                \n",
    "            except: # if something else goes wrong\n",
    "                print(\"That shit failed, saving data and moving to stow position.\")\n",
    "                break\n",
    "            \n",
    "        i+=1\n",
    "\n",
    "            \n",
    "    final_data = hpm.get_recording_data()\n",
    "    np.save(\"final_data.npy\", final_data)\n",
    "    print('Final data saved.')\n",
    "    \n",
    "    hpm.end_recording() # end recording\n",
    "    imf.stow() # stow telescope\n",
    "    \n",
    "    return final_data"
   ]
  },
  {
   "cell_type": "code",
   "execution_count": 8,
   "metadata": {},
   "outputs": [
    {
     "name": "stdout",
     "output_type": "stream",
     "text": [
      "Moving to initial Sun position...\n",
      "0 iteration\n",
      "Succesfully pointed, moved to new alt, az: 47.045, 182.936\n",
      "1 iteration\n",
      "Succesfully pointed, moved to new alt, az: 47.041, 183.077\n",
      "2 iteration\n",
      "Succesfully pointed, moved to new alt, az: 47.037, 183.218\n",
      "3 iteration\n",
      "Succesfully pointed, moved to new alt, az: 47.032, 183.360\n",
      "4 iteration\n",
      "Succesfully pointed, moved to new alt, az: 47.028, 183.501\n",
      "5 iteration\n",
      "Succesfully pointed, moved to new alt, az: 47.023, 183.642\n",
      "6 iteration\n",
      "Succesfully pointed, moved to new alt, az: 47.018, 183.783\n",
      "7 iteration\n",
      "Succesfully pointed, moved to new alt, az: 47.013, 183.924\n",
      "8 iteration\n",
      "Succesfully pointed, moved to new alt, az: 47.008, 184.065\n",
      "9 iteration\n",
      "Succesfully pointed, moved to new alt, az: 47.003, 184.207\n",
      "10 iteration\n",
      "Succesfully pointed, moved to new alt, az: 46.997, 184.348\n",
      "11 iteration\n",
      "Succesfully pointed, moved to new alt, az: 46.991, 184.489\n",
      "12 iteration\n",
      "Succesfully pointed, moved to new alt, az: 46.985, 184.630\n"
     ]
    },
    {
     "data": {
      "text/plain": [
       "(array([1.60e-04, 1.66e-04, 1.76e-04, ..., 5.30e-05, 5.10e-05, 4.80e-05]),\n",
       " array([1.64668486e+09, 1.64668486e+09, 1.64668486e+09, ...,\n",
       "        1.64668516e+09, 1.64668516e+09, 1.64668516e+09]))"
      ]
     },
     "execution_count": 8,
     "metadata": {},
     "output_type": "execute_result"
    }
   ],
   "source": [
    "take_data(5, 20, 0.1)"
   ]
  },
  {
   "cell_type": "code",
   "execution_count": 9,
   "metadata": {},
   "outputs": [],
   "source": [
    "data = np.load('final_data.npy')"
   ]
  },
  {
   "cell_type": "code",
   "execution_count": 15,
   "metadata": {},
   "outputs": [],
   "source": [
    "volts = data[0]\n",
    "times = data[1]"
   ]
  },
  {
   "cell_type": "code",
   "execution_count": 16,
   "metadata": {},
   "outputs": [
    {
     "data": {
      "text/plain": [
       "[<matplotlib.lines.Line2D at 0x7fd9adadbcf8>]"
      ]
     },
     "execution_count": 16,
     "metadata": {},
     "output_type": "execute_result"
    },
    {
     "data": {
      "image/png": "[encoded data removed]",
      "text/plain": [
       "<Figure size 432x288 with 1 Axes>"
      ]
     },
     "metadata": {
      "needs_background": "light"
     },
     "output_type": "display_data"
    }
   ],
   "source": [
    "plt.figure()\n",
    "plt.plot(times, volts)"
   ]
  },
  {
   "cell_type": "code",
   "execution_count": null,
   "metadata": {},
   "outputs": [],
   "source": []
  }
 ],
 "metadata": {
  "kernelspec": {
   "display_name": "Python 3",
   "language": "python",
   "name": "python3"
  },
  "language_info": {
   "codemirror_mode": {
    "name": "ipython",
    "version": 3
   },
   "file_extension": ".py",
   "mimetype": "text/x-python",
   "name": "python",
   "nbconvert_exporter": "python",
   "pygments_lexer": "ipython3",
   "version": "3.6.12"
  }
 },
 "nbformat": 4,
 "nbformat_minor": 4
}
