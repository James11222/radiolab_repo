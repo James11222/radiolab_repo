{
 "cells": [
  {
   "cell_type": "markdown",
   "metadata": {},
   "source": [
    "# Calculate the ls, bs, ras, decs, and JDs for the NCP data collected:\n",
    "\n",
    "Information for coordinates and dates were saved into 3 files for main, noise_off, and noise_on collection sets. The saved arrays have shapes of [5, 240], indexed as [l, b, ra, dec, jd].\n",
    "\n",
    "Useful for Doppler velcocity correction calculations."
   ]
  },
  {
   "cell_type": "code",
   "execution_count": 62,
   "metadata": {},
   "outputs": [],
   "source": [
    "import glob\n",
    "import astropy\n",
    "from astropy.io import fits\n",
    "import numpy as np\n",
    "    \n",
    "main_files = glob.glob('fits_files/celestial_main_*')\n",
    "noise_off_files = glob.glob('fits_files/celestial_noise_off_*')\n",
    "noise_on_files = glob.glob('fits_files/celestial_noise_on*')\n",
    " "
   ]
  },
  {
   "cell_type": "code",
   "execution_count": 63,
   "metadata": {},
   "outputs": [],
   "source": [
    "ls_main, bs_main, ras_main, decs_main, jds_main = [], [], [], [], []\n",
    "for file in main_files:\n",
    "    f = fits.open(file)\n",
    "    header = f[0].header\n",
    "    l, b, ra, dec, jd = header[18], header[19], header[20], header[21], header[22]\n",
    "    ls_main.append(l), bs_main.append(b), ras_main.append(ra), decs_main.append(dec), jds_main.append(jd)\n",
    "main_info = np.array([ls_main, bs_main, ras_main, decs_main, jds_main])"
   ]
  },
  {
   "cell_type": "code",
   "execution_count": 64,
   "metadata": {},
   "outputs": [],
   "source": [
    "ls_noise_off, bs_noise_off, ras_noise_off, decs_noise_off, jds_noise_off = [], [], [], [], []\n",
    "for file in noise_off_files:\n",
    "    f = fits.open(file)\n",
    "    header = f[0].header\n",
    "    l, b, ra, dec, jd = header[18], header[19], header[20], header[21], header[22]\n",
    "    ls_noise_off.append(l), bs_noise_off.append(b), ras_noise_off.append(ra), decs_noise_off.append(dec), jds_noise_off.append(jd)\n",
    "noise_off_info = np.array([ls_noise_off, bs_noise_off, ras_noise_off, decs_noise_off, jds_noise_off])"
   ]
  },
  {
   "cell_type": "code",
   "execution_count": 65,
   "metadata": {},
   "outputs": [],
   "source": [
    "ls_noise_on, bs_noise_on, ras_noise_on, decs_noise_on, jds_noise_on = [], [], [], [], []\n",
    "for file in noise_on_files:\n",
    "    f = fits.open(file)\n",
    "    header = f[0].header\n",
    "    l, b, ra, dec, jd = header[18], header[19], header[20], header[21], header[22]\n",
    "    ls_noise_on.append(l), bs_noise_on.append(b), ras_noise_on.append(ra), decs_noise_on.append(dec), jds_noise_on.append(jd)\n",
    "noise_on_info = np.array([ls_noise_on, bs_noise_on, ras_noise_on, decs_noise_on, jds_noise_on])"
   ]
  },
  {
   "cell_type": "code",
   "execution_count": 66,
   "metadata": {},
   "outputs": [],
   "source": [
    "np.save('radiolab_repo/lab4/Raphael/data_information/main_info', main_info)\n",
    "np.save('radiolab_repo/lab4/Raphael/data_information/noise_off_info', noise_off_info)\n",
    "np.save('radiolab_repo/lab4/Raphael/data_information/noise_on_info', noise_on_info)"
   ]
  },
  {
   "cell_type": "code",
   "execution_count": 67,
   "metadata": {},
   "outputs": [
    {
     "data": {
      "text/plain": [
       "((5, 240), (5, 241), (5, 241))"
      ]
     },
     "execution_count": 67,
     "metadata": {},
     "output_type": "execute_result"
    }
   ],
   "source": [
    "noise_off_info.shape, noise_on_info.shape, main_info.shape"
   ]
  },
  {
   "cell_type": "code",
   "execution_count": null,
   "metadata": {},
   "outputs": [],
   "source": []
  }
 ],
 "metadata": {
  "kernelspec": {
   "display_name": "Python 3",
   "language": "python",
   "name": "python3"
  },
  "language_info": {
   "codemirror_mode": {
    "name": "ipython",
    "version": 3
   },
   "file_extension": ".py",
   "mimetype": "text/x-python",
   "name": "python",
   "nbconvert_exporter": "python",
   "pygments_lexer": "ipython3",
   "version": "3.8.10"
  }
 },
 "nbformat": 4,
 "nbformat_minor": 4
}
