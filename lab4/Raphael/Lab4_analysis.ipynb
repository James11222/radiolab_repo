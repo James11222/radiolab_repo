{
 "cells": [
  {
   "cell_type": "code",
   "execution_count": 3,
   "metadata": {},
   "outputs": [],
   "source": [
    "from astropy.io import fits\n",
    "import numpy as np\n",
    "import matplotlib.pyplot as plt\n",
    "import matplotlib as mpl\n",
    "import ugradio\n",
    "mpl.rcParams['axes.linewidth'] = 1 #set the value globally\n",
    "plt.rcParams['mathtext.fontset'],plt.rcParams['font.family'] = 'stix', 'STIXGeneral'\n",
    "plt.rcParams.update({'font.size': 16})\n"
   ]
  },
  {
   "cell_type": "code",
   "execution_count": 7,
   "metadata": {},
   "outputs": [
    {
     "data": {
      "text/plain": [
       "-3.576072017773169"
      ]
     },
     "execution_count": 7,
     "metadata": {},
     "output_type": "execute_result"
    }
   ],
   "source": [
    "RA, DEC = 6.45, 62.726 #RA, DEC for our observations\n",
    "JD = ugradio.timing.julian_date()-(1/24)\n",
    "# JD = 2459632.3805556\n",
    "\n",
    "correction = ugradio.doppler.get_projected_velocity(RA, DEC,JD).value / 1000\n",
    "correction"
   ]
  },
  {
   "cell_type": "code",
   "execution_count": 10,
   "metadata": {},
   "outputs": [
    {
     "data": {
      "text/plain": [
       "array([-1352.95138896, -1352.64196557, -1352.33254219, ...,\n",
       "        1180.91673974,  1181.22616313,  1181.53558652])"
      ]
     },
     "execution_count": 10,
     "metadata": {},
     "output_type": "execute_result"
    }
   ],
   "source": [
    "freqs=np.linspace(144,156,8192)\n",
    "velocities=(((freqs+1270)-1420.4058)/(1420.4058))*(3e5)\n",
    "velocities"
   ]
  },
  {
   "cell_type": "code",
   "execution_count": 13,
   "metadata": {},
   "outputs": [],
   "source": [
    "def T_0(data_file,noise_file,no_noise_file):\n",
    "    on=fits.open(data_file)\n",
    "    noise=fits.open(noise_file)\n",
    "    no_noise=fits.open(no_noise_file)\n",
    "    data=np.empty((8192,len(on)-1))\n",
    "    noise_data=np.empty((8192,len(on)-1))\n",
    "    no_noise_data=np.empty((8192,len(on)-1))\n",
    "    for i in range(1,len(on)-1):\n",
    "        data[:,i]=on[i].data['auto0_real']\n",
    "        noise_data[:,i]=noise[i].data['auto0_real']\n",
    "        no_noise_data[:,i]=no_noise[i].data['auto0_real']\n",
    "    averaged_data=np.mean(data,axis=1)\n",
    "    averaged_noise=np.mean(noise_data,axis=1)\n",
    "    averaged_no_noise=np.mean(no_noise_data,axis=1)\n",
    "    G=(90/(np.sum(averaged_noise-averaged_no_noise)))*np.sum(averaged_no_noise)\n",
    "    maximum=(np.max((averaged_data/averaged_no_noise)[np.where(averaged_data/averaged_no_noise>0)]))\n",
    "    T=G*np.abs((maximum-1))\n",
    "    return T\n",
    "\n",
    "\n",
    "def V_0(data_file,noise_file,no_noise_file):\n",
    "    on=fits.open(data_file)\n",
    "    noise=fits.open(noise_file)\n",
    "    no_noise=fits.open(no_noise_file)\n",
    "    data=np.empty((8192,len(on)-1))\n",
    "    noise_data=np.empty((8192,len(on)-1))\n",
    "    no_noise_data=np.empty((8192,len(on)-1))\n",
    "    for i in range(1,len(on)-1):\n",
    "        data[:,i]=on[i].data['auto0_real']\n",
    "        noise_data[:,i]=noise[i].data['auto0_real']\n",
    "        no_noise_data[:,i]=no_noise[i].data['auto0_real']\n",
    "    averaged_data=np.mean(data,axis=1)\n",
    "    averaged_noise=np.mean(noise_data,axis=1)\n",
    "    averaged_no_noise=np.mean(no_noise_data,axis=1)# GET DATA\n",
    "    ind_1=np.where(velocities>-50)[0][0]# Get indices for median\n",
    "    ind_2=np.where(velocities<50)[0][-1]# Get indices for median\n",
    "    G=(90/(np.sum(averaged_noise-averaged_no_noise)))*np.sum(averaged_no_noise)# Get Gain\n",
    "    med=np.median((averaged_data[ind_1:ind_2]/averaged_no_noise[ind_1:ind_2]))# Get median\n",
    "    y_data_fit = (averaged_data/averaged_no_noise)*G-G*med\n",
    "    y_data_fit = y_data_fit[ind_1:ind_2]\n",
    "    x_data_fit = velocities + correction\n",
    "    x_data_fit = x_data_fit[ind_1:ind_2]\n",
    "    plt.plot(x_data_fit,y_data_fit)\n",
    "    fit_params_on1 = ugradio.gauss.gaussfit(x_data_fit, y_data_fit, amp=50, avg=20, sig=25)#get fit\n",
    "    chisq_r_s = []\n",
    "    for i in range(1):\n",
    "        ys = (averaged_data/averaged_no_noise)*G-med*G\n",
    "        xs = velocities + correction\n",
    "        chisq_r_s.append(np.sum(np.abs(y_data_fit - ugradio.gauss.gaussval(x_data_fit, **fit_params_on1))**2) / (y_data_fit.size - 3) / np.std(y_data_fit[:190])**2)\n",
    "    return (fit_params_on1['avg'][0])"
   ]
  },
  {
   "cell_type": "code",
   "execution_count": 12,
   "metadata": {},
   "outputs": [
    {
     "name": "stderr",
     "output_type": "stream",
     "text": [
      "<ipython-input-11-5ffca043d413>:16: RuntimeWarning: invalid value encountered in true_divide\n",
      "  maximum=(np.max((averaged_data/averaged_no_noise)[np.where(averaged_data/averaged_no_noise>0)]))\n"
     ]
    },
    {
     "name": "stdout",
     "output_type": "stream",
     "text": [
      "T= 43.128820335803105\n",
      "V= (14.86067712078736, 38.21479277016486)\n"
     ]
    },
    {
     "name": "stderr",
     "output_type": "stream",
     "text": [
      "<ipython-input-11-5ffca043d413>:37: RuntimeWarning: divide by zero encountered in true_divide\n",
      "  y_data_fit = (averaged_data/averaged_no_noise)*G-G*med\n",
      "<ipython-input-11-5ffca043d413>:37: RuntimeWarning: invalid value encountered in true_divide\n",
      "  y_data_fit = (averaged_data/averaged_no_noise)*G-G*med\n",
      "<ipython-input-11-5ffca043d413>:45: RuntimeWarning: divide by zero encountered in true_divide\n",
      "  ys = (averaged_data/averaged_no_noise)*G-med*G\n",
      "<ipython-input-11-5ffca043d413>:45: RuntimeWarning: invalid value encountered in true_divide\n",
      "  ys = (averaged_data/averaged_no_noise)*G-med*G\n"
     ]
    },
    {
     "data": {
      "image/png": "[encoded data removed]",
      "text/plain": [
       "<Figure size 432x288 with 1 Axes>"
      ]
     },
     "metadata": {
      "needs_background": "light"
     },
     "output_type": "display_data"
    }
   ],
   "source": [
    "print('T=',T_0('celestial_10521.fits','celestial_10521_noise.fits','celestial_10521_noiseoff.fits'))\n",
    "print('V=',V_0('celestial_10521.fits','celestial_10521_noise.fits','celestial_10521_noiseoff.fits'))\n"
   ]
  },
  {
   "cell_type": "code",
   "execution_count": null,
   "metadata": {},
   "outputs": [],
   "source": []
  }
 ],
 "metadata": {
  "kernelspec": {
   "display_name": "Python 3",
   "language": "python",
   "name": "python3"
  },
  "language_info": {
   "codemirror_mode": {
    "name": "ipython",
    "version": 3
   },
   "file_extension": ".py",
   "mimetype": "text/x-python",
   "name": "python",
   "nbconvert_exporter": "python",
   "pygments_lexer": "ipython3",
   "version": "3.8.10"
  }
 },
 "nbformat": 4,
 "nbformat_minor": 4
}
