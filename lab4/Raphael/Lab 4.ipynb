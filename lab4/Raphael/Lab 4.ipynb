{
 "cells": [
  {
   "cell_type": "code",
   "execution_count": 4,
   "metadata": {},
   "outputs": [
    {
     "name": "stdout",
     "output_type": "stream",
     "text": [
      "<SkyCoord (FK5: equinox=J2000.000): (ra, dec) in deg\n",
      "    (305.33647276, 71.63643271)>\n"
     ]
    },
    {
     "data": {
      "text/plain": [
       "<SkyCoord (AltAz: obstime=2022-04-20 18:31:00.000, location=(-2677740.1005256, -4267574.82108112, 3898369.00733988) m, pressure=0.0 hPa, temperature=0.0 deg_C, relative_humidity=0.0, obswl=1.0 micron): (az, alt) in deg\n",
       "    (337.47701315, 45.27321152)>"
      ]
     },
     "execution_count": 4,
     "metadata": {},
     "output_type": "execute_result"
    }
   ],
   "source": [
    "#GETTING COORDINATES WITH ASTROPY\n",
    "import ugradio\n",
    "from astropy import units as u\n",
    "from astropy.time import Time\n",
    "from astropy.coordinates import SkyCoord,AltAz\n",
    "from astropy.coordinates import EarthLocation\n",
    "gc = SkyCoord(l=105*u.degree, b=19*u.degree, frame='galactic')\n",
    "print(gc.fk5)\n",
    "\n",
    "loc = EarthLocation(lat = ugradio.leo.lat*u.deg, lon = ugradio.leo.lon*u.deg, height = 122*u.m) # current location\n",
    "time = Time('2022-04-20 18:31:00')# time we took data\n",
    "cAltAz = gc.transform_to(AltAz(obstime = time, location = loc))\n",
    "cAltAz"
   ]
  },
  {
   "cell_type": "code",
   "execution_count": 2,
   "metadata": {},
   "outputs": [
    {
     "data": {
      "text/plain": [
       "(45.27138345798582, 337.5105007472717)"
      ]
     },
     "execution_count": 2,
     "metadata": {},
     "output_type": "execute_result"
    }
   ],
   "source": [
    "ugradio.coord.get_altaz(305.33647276, 71.6364327)"
   ]
  },
  {
   "cell_type": "code",
   "execution_count": null,
   "metadata": {},
   "outputs": [],
   "source": []
  }
 ],
 "metadata": {
  "kernelspec": {
   "display_name": "Python 3",
   "language": "python",
   "name": "python3"
  },
  "language_info": {
   "codemirror_mode": {
    "name": "ipython",
    "version": 3
   },
   "file_extension": ".py",
   "mimetype": "text/x-python",
   "name": "python",
   "nbconvert_exporter": "python",
   "pygments_lexer": "ipython3",
   "version": "3.8.10"
  }
 },
 "nbformat": 4,
 "nbformat_minor": 4
}
