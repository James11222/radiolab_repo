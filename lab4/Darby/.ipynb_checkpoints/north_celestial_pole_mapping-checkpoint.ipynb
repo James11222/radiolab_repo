{
 "cells": [
  {
   "cell_type": "code",
   "execution_count": 3,
   "metadata": {},
   "outputs": [],
   "source": [
    "import ugradio\n",
    "import numpy as np\n",
    "import matplotlib as mpl\n",
    "from matplotlib import pyplot as plt\n",
    "import astropy\n",
    "import math as m\n",
    "import glob\n",
    "import os\n",
    "\n",
    "\n",
    "# import mpl_toolkits.axes_grid1 as axgrid\n",
    "# from mpl_toolkits.axes_grid1 import make_axes_locatable\n",
    "# import scipy\n",
    "\n",
    "%matplotlib inline\n",
    "plt.rcParams['mathtext.fontset'], plt.rcParams['font.family'] = 'stix', 'STIXGeneral'\n",
    "plt.rcParams.update({'font.size': 17})"
   ]
  },
  {
   "cell_type": "markdown",
   "metadata": {},
   "source": [
    "## Constants"
   ]
  },
  {
   "cell_type": "code",
   "execution_count": 99,
   "metadata": {},
   "outputs": [],
   "source": [
    "### Interferometer constants ###\n",
    "T_NOISE = 90 # [K]\n",
    "LO, RF = 1270, 1420.4058 # [MHz]\n",
    "FREQ_RES = 8192 \n",
    "\n",
    "LT_LAT, LT_LON, LT_ALT = ugradio.leo.lat, ugradio.leo.lon, ugradio.leo.alt\n",
    "\n",
    "\n",
    "### Physical constants ###\n",
    "c = 3e5 # [km/s]\n",
    "\n",
    "\n",
    "### Coordinate constants ###\n",
    "l_min, l_max = 105, 160 # [degrees]\n",
    "b_min, b_max = 15, 50 # [degrees]\n",
    "\n",
    "δb = 2\n",
    "δl = lambda b: 2/np.cos(m.radians(b)) # take in b in degrees\n",
    "\n",
    "Δl = l_max - l_min\n",
    "Δb = b_max - b_min\n"
   ]
  },
  {
   "cell_type": "markdown",
   "metadata": {},
   "source": [
    "## Utility Functions"
   ]
  },
  {
   "cell_type": "code",
   "execution_count": 100,
   "metadata": {},
   "outputs": [],
   "source": [
    "def calc_avg_power_fft(data):\n",
    "    fft = np.fft.fft(data)\n",
    "    pow_data = np.abs(fft)**2\n",
    "    avg_data = np.mean(pow_data, axis=1)\n",
    "    return np.fft.fftshift(avg_data)\n",
    "\n",
    "def calc_avg(data):\n",
    "    return np.mean(data, axis=1)\n",
    "\n",
    "def calc_median_power_fft(data):\n",
    "    fft = np.fft.fft(data)\n",
    "    pow_data = np.abs(fft)**2\n",
    "    avg_data = np.median(pow_data, axis=1)\n",
    "    return np.fft.fftshift(avg_data)\n",
    "\n",
    "def calc_freq(samples, frequency):\n",
    "    return np.fft.fftshift(np.fft.fftfreq(samples, d=1/frequency))\n",
    "\n",
    "def calc_gain(main_data, on_data, off_data):\n",
    "    \n",
    "    \"\"\"\n",
    "    A simple function to compute the gain for a given coordinate.\n",
    "    \"\"\"    \n",
    "    \n",
    "#     T_NOISE = 90 # Kelvin\n",
    "    G = (T_NOISE/(np.sum(on_data-off_data))) * np.sum(off_data) #calc Gain\n",
    "    \n",
    "    return G\n",
    "\n",
    "def calc_velocities(main_ras, main_decs, main_jds):\n",
    "    \n",
    "    \"\"\"\n",
    "    A simple function to calculate the velocities w.r.t the LSR.\n",
    "    \"\"\"\n",
    "    \n",
    "#     FREQ_RES = 8192 \n",
    "#     LO = 1270 #Mhz\n",
    "#     RF = 1420.4058 #Mhz\n",
    "#     c = 3e5 #km/s\n",
    "    freqs = np.linspace(144,156,FREQ_RES) \n",
    "    doppler_velocity = (((freqs+LO)-RF)/RF)*c #doppler velocities -- km/s \n",
    "    \n",
    "#     if main_file is None:\n",
    "#         correction = 0\n",
    "    velocity_correction = ugradio.doppler.get_projected_velocity(ra=main_ras, \n",
    "                                                                 dec=main_decs,\n",
    "                                                                 jd=main_jds,\n",
    "                                                                 obs_lat=LT_LAT,\n",
    "                                                                 obs_lon=LT_LON,\n",
    "                                                                 obs_alt=LT_ALT)/1e3 # dividing by 1e3 converts to km/s\n",
    " \n",
    "    dopp_vels = []\n",
    "    for i in range(len(velocity_correction)):\n",
    "        dopp_vel_lb = doppler_velocity + velocity_correction[i].value\n",
    "        dopp_vels.append(dopp_vel_lb)\n",
    "    return dopp_vels\n",
    "\n",
    "\n",
    "def T_0(main_data, on_data, off_data, main_ras, main_decs, main_jds):\n",
    "#     T_NOISE = 90 # Kelvin\n",
    "    \n",
    "#     G = calc_gain(main_data,on_data,off_data)\n",
    "#     max_value = np.max((main_data/off_data))\n",
    "#     max_index = np.argmax((main_data/off_data))\n",
    "#     T = G * (max_value - 1)\n",
    "#     return T\n",
    "\n",
    "#     T_NOISE = 90 # Kelvin\n",
    "    \n",
    "    G = calc_gain(main_data, on_data, off_data)\n",
    "    max_value = np.max((main_data/off_data))\n",
    "    max_index = np.argmax((main_data/off_data))\n",
    "    velocities = calc_velocities(main_ras, main_decs, main_jds)\n",
    "    \n",
    "    \n",
    "    fitting_indices = np.where((velocities > -70) & (velocities < 50)) # we zoom in to ignore the ripples\n",
    "    G = calc_gain(main_data, on_data, off_data)\n",
    "    \n",
    "    median = np.median(main_data[fitting_indices]/off_data[fitting_indices]) \n",
    "    \n",
    "    y_data_fit = (main_data/off_data)*G - G*median\n",
    "    y_data_fit = y_data_fit[fitting_indices]\n",
    "    x_data_fit = velocities\n",
    "    x_data_fit = x_data_fit[fitting_indices]\n",
    "    max_value = np.max(y_data_fit[np.where(x_data_fit<40)])\n",
    "    max_index = np.argmax(y_data_fit[np.where(x_data_fit<40)])\n",
    "    T = max_value\n",
    "\n",
    "    return T\n",
    "\n",
    "\n",
    "def V_0(averaged_data, averaged_noise, averaged_no_noise):\n",
    "    ind_1=np.where(velocities>-50)[0][0]# Get indices for median\n",
    "    ind_2=np.where(velocities<50)[0][-1]# Get indices for median\n",
    "    G=(90/(np.sum(averaged_noise-averaged_no_noise)))*np.sum(averaged_no_noise)# Get Gain\n",
    "    med=np.median((averaged_data[ind_1:ind_2]/averaged_no_noise[ind_1:ind_2]))# Get median\n",
    "    y_data_fit = (averaged_data/averaged_no_noise)*G-G*med\n",
    "    y_data_fit = y_data_fit[ind_1:ind_2]\n",
    "    x_data_fit = velocities + correction\n",
    "    x_data_fit = x_data_fit[ind_1:ind_2]\n",
    "    plt.plot(x_data_fit,y_data_fit)\n",
    "    fit_params_on1 = ugradio.gauss.gaussfit(x_data_fit, y_data_fit, amp=50, avg=20, sig=25)#get fit\n",
    "    chisq_r_s = []\n",
    "    for i in range(1):\n",
    "        ys = (averaged_data/averaged_no_noise)*G-med*G\n",
    "        xs = velocities + correction\n",
    "        chisq_r_s.append(np.sum(np.abs(y_data_fit - ugradio.gauss.gaussval(x_data_fit, **fit_params_on1))**2) / (y_data_fit.size - 3) / np.std(y_data_fit[:190])**2)\n",
    "    return (fit_params_on1['avg'][0])"
   ]
  },
  {
   "cell_type": "code",
   "execution_count": null,
   "metadata": {},
   "outputs": [],
   "source": []
  },
  {
   "cell_type": "markdown",
   "metadata": {},
   "source": [
    "## Loading in Data"
   ]
  },
  {
   "cell_type": "code",
   "execution_count": 34,
   "metadata": {},
   "outputs": [],
   "source": [
    "# CODE TO LOAD SPECTRA NUMPY FILES IN A DICT\n",
    "\n",
    "data_dict = {} # dict where key is coordinate (l, b)) and value is [main, noise_on, noise_off, [ra, dec, jd]]\n",
    "                # where main, noise_on, noise_off are all numpy arrays of the spectra\n",
    "for filename in os.listdir(os.getcwd() + '/data/new_celestial_data/celestial_data'):\n",
    "    if filename == \".ipynb_checkpoints\" or filename == '.DS_Store':\n",
    "        continue\n",
    "    split_name = filename.split(\"_\")\n",
    "\n",
    "    if split_name[0] == 'off':\n",
    "        fits_type = 2 # off\n",
    "    elif split_name[0] == 'on':\n",
    "        fits_type = 1 # on\n",
    "    else:\n",
    "        fits_type = 0 # main\n",
    "\n",
    "    #l, b, ra, dec, jd\n",
    "    _, l, b, ra, dec, jd, _ = split_name\n",
    "    l, b, ra, dec, jd = float(l), float(b), float(ra), float(dec), float(jd) # convert strings to floats\n",
    "\n",
    "    curr_data = np.load('data/new_celestial_data/celestial_data/' + filename) # load the spectra from file\n",
    "    curr_data = np.mean(curr_data, axis=1) # keep the average in the dict\n",
    "    \n",
    "    if not data_dict.get((l, b)):\n",
    "        data_dict[(l, b)] = [[], [], [], ra, dec, jd]      \n",
    "    data_dict[(l, b)][fits_type] = curr_data\n",
    "    "
   ]
  },
  {
   "cell_type": "code",
   "execution_count": 83,
   "metadata": {},
   "outputs": [
    {
     "name": "stdout",
     "output_type": "stream",
     "text": [
      "(158.8716594064493, 27.0)\n",
      "Length of each quantity array: 400 400 400 400 400\n"
     ]
    }
   ],
   "source": [
    "# RUN THIS CELL TO LOOP THROUGH ALL SPECTRA \n",
    "# SAVES ls, bs, ras, decs, jds, specs (main), and Ts which are ordered in the same order\n",
    "\n",
    "ls = []\n",
    "bs = []\n",
    "ras, decs, jds = [], [], []\n",
    "specs = []\n",
    "Ts = []\n",
    "\n",
    "for coord in data_dict.keys():\n",
    "    l, b = coord\n",
    "    main, noise_on, noise_off, ra, dec, jd = data_dict.get(coord)\n",
    "    \n",
    "    if len(main) == 0 or len(noise_on) == 0 or len(noise_off) == 0:\n",
    "        print(coord)\n",
    "        continue\n",
    "#     temperature = T_0(main, noise_on, noise_off)\n",
    "    \n",
    "    ls.append(l)\n",
    "    bs.append(b)\n",
    "    specs.append(main)\n",
    "#     Ts.append(temperature)\n",
    "    ras.append(ra)\n",
    "    decs.append(dec)\n",
    "    jds.append(jd)\n",
    "\n",
    "print('Length of each quantity array:', len(ls), len(bs), len(ras), len(bs), len(jds))"
   ]
  },
  {
   "cell_type": "markdown",
   "metadata": {},
   "source": [
    "#### Now we have lists of ls, bs, ras, decs, and JDs that are sorted and alligned. We shouldn't have to worry about sorting anything anymore or worry about allignment and misplacements."
   ]
  },
  {
   "cell_type": "code",
   "execution_count": 101,
   "metadata": {},
   "outputs": [],
   "source": [
    "velocity_correction = ugradio.doppler.get_projected_velocity(ra=ras, \n",
    "                                                                 dec=decs,\n",
    "                                                                 jd=jds,\n",
    "                                                                 obs_lat=LT_LAT,\n",
    "                                                                 obs_lon=LT_LON,\n",
    "                                                                 obs_alt=LT_ALT)/1e3\n",
    "\n",
    "freqs = np.linspace(144,156,FREQ_RES) \n",
    "doppler_velocity = (((freqs+LO)-RF)/RF)*c #doppler velocities -- km/s \n"
   ]
  },
  {
   "cell_type": "code",
   "execution_count": 103,
   "metadata": {
    "scrolled": false
   },
   "outputs": [
    {
     "data": {
      "text/plain": [
       "array([-1352.95138896, -1352.64196557, -1352.33254219, ...,\n",
       "        1180.91673974,  1181.22616313,  1181.53558652])"
      ]
     },
     "execution_count": 103,
     "metadata": {},
     "output_type": "execute_result"
    }
   ],
   "source": [
    "# velocity_correction.value\n",
    "# len(doppler_velocity)\n",
    "doppler_velocity"
   ]
  },
  {
   "cell_type": "markdown",
   "metadata": {},
   "source": [
    "## Building"
   ]
  },
  {
   "cell_type": "code",
   "execution_count": 50,
   "metadata": {},
   "outputs": [],
   "source": [
    "# bs = []\n",
    "# for i in range(50): # 50 is an arbitrarily chosen number\n",
    "#     b = b_min + i*δb\n",
    "#     if b<b_max:\n",
    "#         bs.append(b)\n",
    "# bs = np.array(bs)\n",
    "\n",
    "# # ls = []\n",
    "# # for b in bs:\n",
    "# #     for i in range(50):\n",
    "# #         l = l_min + i*δl(b)\n",
    "# #         if l<l_max:\n",
    "# #             ls.append(l)\n",
    "# # ls = np.array(ls)\n",
    "\n",
    "# ls = []\n",
    "# for b in bs:\n",
    "#     ls.append(np.array([l_min + i*δl(b) \n",
    "#                         for i in range(50) if \n",
    "#                         (l_min + i*δl(b)) < l_max]))\n",
    "\n",
    "\n",
    "        \n",
    "# coords = []\n",
    "# for i in range(len(bs)):\n",
    "#     for j in range(len(ls[i])):\n",
    "#         coord = [ls[i][j], bs[i]]\n",
    "#         coords.append(coord)\n",
    "# coords = np.array(coords)\n",
    "\n",
    "# coord_names = []\n",
    "# for coord in coords:\n",
    "#     coord_name = f\"{coord[0]:0.3f}_{coord[1]:0.3f}\"\n",
    "#     coord_names.append(coord_name)\n"
   ]
  },
  {
   "cell_type": "code",
   "execution_count": null,
   "metadata": {},
   "outputs": [],
   "source": []
  },
  {
   "cell_type": "markdown",
   "metadata": {},
   "source": [
    "## Functions of use"
   ]
  },
  {
   "cell_type": "code",
   "execution_count": 225,
   "metadata": {},
   "outputs": [],
   "source": [
    "# def calc_gain(on_data, off_data):\n",
    "    \n",
    "#     \"\"\"\n",
    "#     Calculate the gain of each coordinate in the given data set.\n",
    "#     \"\"\"\n",
    "#     gains = []\n",
    "#     for i in range(len(off_data)):\n",
    "#             gain = (T_NOISE*np.sum(off_data[i]))/np.sum(on_data[i]-off_data[i])\n",
    "#             gains.append(gain)\n",
    "#     return gains\n",
    "\n",
    "\n",
    "# def calc_velocity(ras, decs, jds):\n",
    "#     \"\"\"\n",
    "#     Calculate the velocities of each coordinate in the given data set.\n",
    "#     \"\"\"\n",
    "    \n",
    "#     freqs_range = np.linspace(144, 156, FREQ_RES)\n",
    "#     doppler_velocity = (c*((freqs_range+LO)-RF))/RF\n",
    "    \n",
    "#     velocity_correction = ugradio.doppler.get_projected_velocity(ra=ras, \n",
    "#                                                                  dec=decs,\n",
    "#                                                                  jd=jds,\n",
    "#                                                                  obs_lat=LT_LAT,\n",
    "#                                                                  obs_lon=LT_LON,\n",
    "#                                                                  obs_alt=LT_ALT)\n",
    " \n",
    "#     dopp_vels = []\n",
    "#     for i in range(len(velocity_correction)):\n",
    "#         dopp_vel_lb = doppler_velocity + velocity_correction[i].value\n",
    "#         dopp_vels.append(dopp_vel_lb)\n",
    "#     return dopp_vels\n",
    "\n",
    "\n",
    "# def calc_peak_max(main_data, off_data, on_data):\n",
    "#     \"\"\"\n",
    "#     Calibrates to convert to max temperature [K] at each point. \n",
    "#     Also computes corresponding velocity [km/s].\n",
    "#     \"\"\"\n",
    "#     main_data = np.mean()"
   ]
  },
  {
   "cell_type": "code",
   "execution_count": 75,
   "metadata": {},
   "outputs": [],
   "source": [
    "# ugradio.doppler.get_projected_velocity??"
   ]
  },
  {
   "cell_type": "code",
   "execution_count": 106,
   "metadata": {},
   "outputs": [],
   "source": [
    "# freqs_range = np.linspace(144, 156, FREQ_RES)\n",
    "# len(freqs_range), len(main_decs)"
   ]
  },
  {
   "cell_type": "code",
   "execution_count": 138,
   "metadata": {},
   "outputs": [],
   "source": [
    "# velocity_correction = ugradio.doppler.get_projected_velocity(ra=main_ras, \n",
    "#                                                                  dec=main_decs,\n",
    "#                                                                  jd=main_jds,\n",
    "#                                                                  obs_lat=LT_LAT,\n",
    "#                                                                  obs_lon=LT_LON,\n",
    "#                                                                  obs_alt=LT_ALT)"
   ]
  },
  {
   "cell_type": "code",
   "execution_count": null,
   "metadata": {},
   "outputs": [],
   "source": []
  },
  {
   "cell_type": "code",
   "execution_count": 105,
   "metadata": {},
   "outputs": [],
   "source": [
    "# len(calc_gain(on_data, off_data))"
   ]
  },
  {
   "cell_type": "code",
   "execution_count": 212,
   "metadata": {},
   "outputs": [],
   "source": [
    "# for i in range(len(on_data)):\n",
    "#     print(i)"
   ]
  },
  {
   "cell_type": "code",
   "execution_count": 104,
   "metadata": {},
   "outputs": [],
   "source": [
    "# for i in len(on_data):\n",
    "#     print(i)"
   ]
  },
  {
   "cell_type": "code",
   "execution_count": null,
   "metadata": {},
   "outputs": [],
   "source": []
  }
 ],
 "metadata": {
  "kernelspec": {
   "display_name": "Python 3",
   "language": "python",
   "name": "python3"
  },
  "language_info": {
   "codemirror_mode": {
    "name": "ipython",
    "version": 3
   },
   "file_extension": ".py",
   "mimetype": "text/x-python",
   "name": "python",
   "nbconvert_exporter": "python",
   "pygments_lexer": "ipython3",
   "version": "3.8.10"
  }
 },
 "nbformat": 4,
 "nbformat_minor": 4
}
