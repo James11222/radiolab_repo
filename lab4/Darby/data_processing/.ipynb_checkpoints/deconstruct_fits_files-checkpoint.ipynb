{
 "cells": [
  {
   "cell_type": "code",
   "execution_count": 2,
   "metadata": {},
   "outputs": [],
   "source": [
    "import numpy as np\n",
    "from astropy.io import fits\n",
    "import os"
   ]
  },
  {
   "cell_type": "code",
   "execution_count": 3,
   "metadata": {},
   "outputs": [],
   "source": [
    "for filename in os.listdir(os.getcwd()):\n",
    "    if filename == \".ipynb_checkpoints\" or filename == 'celestial_data':\n",
    "        continue\n",
    "    split_name = filename.split(\"_\")\n",
    "    if split_name[0] != 'celestial':\n",
    "        continue\n",
    "    print(split_name)\n",
    "    if split_name[2] == 'off':\n",
    "        prefix = 'off' # off\n",
    "    elif split_name[2] == 'on':\n",
    "        prefix = 'on' # on\n",
    "    else:\n",
    "        prefix = 'main' # main\n",
    "\n",
    "    \n",
    "#     l, b = split_name[-1].split(\" , \")\n",
    "#     b = b.split('.fits')[0]\n",
    "#     num_l, num_b = float(l), float(b) # convert strings to floats\n",
    "\n",
    "    \n",
    "    fits_file = fits.open(filename)\n",
    "    header = fits_file[0].header\n",
    "    l, b, ra, dec, jd = header[18], header[19], header[20], header[21], header[22]\n",
    "    \n",
    "    data_arr = np.zeros((8192, len(fits_file)-1))\n",
    "\n",
    "    for i in range(1, len(fits_file)):         \n",
    "        data_arr[:,i-1] = fits_file[i].data['auto0_real']\n",
    "\n",
    "    new_filename = os.getcwd() + '/celestial_data/' + prefix + '_' + l + '_' + b + '_' + ra + '_' + dec + '_' + jd + '_.npy'\n",
    "    np.save(new_filename, data_arr)"
   ]
  },
  {
   "cell_type": "code",
   "execution_count": null,
   "metadata": {},
   "outputs": [],
   "source": []
  }
 ],
 "metadata": {
  "kernelspec": {
   "display_name": "Python 3",
   "language": "python",
   "name": "python3"
  },
  "language_info": {
   "codemirror_mode": {
    "name": "ipython",
    "version": 3
   },
   "file_extension": ".py",
   "mimetype": "text/x-python",
   "name": "python",
   "nbconvert_exporter": "python",
   "pygments_lexer": "ipython3",
   "version": "3.8.10"
  }
 },
 "nbformat": 4,
 "nbformat_minor": 4
}
